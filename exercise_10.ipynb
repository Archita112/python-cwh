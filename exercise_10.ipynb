{
  "nbformat": 4,
  "nbformat_minor": 0,
  "metadata": {
    "colab": {
      "provenance": []
    },
    "kernelspec": {
      "name": "python3",
      "display_name": "Python 3"
    },
    "language_info": {
      "name": "python"
    }
  },
  "cells": [
    {
      "cell_type": "code",
      "execution_count": 4,
      "metadata": {
        "colab": {
          "base_uri": "https://localhost:8080/"
        },
        "id": "gsRGRaPnsIr-",
        "outputId": "8d64d9dc-7343-4a8b-e576-e4d62852e769"
      },
      "outputs": [
        {
          "name": "stdout",
          "output_type": "stream",
          "text": [
            "What's x? 60\n",
            "What's y? 60\n"
          ]
        },
        {
          "output_type": "execute_result",
          "data": {
            "text/plain": [
              "3600"
            ]
          },
          "metadata": {},
          "execution_count": 4
        }
      ],
      "source": [
        "# exercise - 1\n",
        "# Given two integer numbers, return their product only if the product is equal to or lower than 1000. Otherwise, return their sum.\n",
        "\n",
        "def main():\n",
        "  x = int(input(\"What's x? \"))\n",
        "  y = int(input(\"What's y? \"))\n",
        "\n",
        "  if product(x, y) >= 1000:\n",
        "    return product(x, y)\n",
        "  else:\n",
        "    return sum(x, y)\n",
        "\n",
        "def product(x, y):\n",
        "  return x * y\n",
        "\n",
        "def sum(x, y):\n",
        "  return x + y\n",
        "\n",
        "main()"
      ]
    },
    {
      "cell_type": "code",
      "source": [
        "# exercise - 2\n",
        "# Write a program to iterate the first 10 numbers, and in each iteration, print the sum of the current and previous number.\n",
        "\n",
        "current_num = int(input(\"Enter a number: \"))\n",
        "previous_num = current_num - 1\n",
        "\n",
        "for number in range(10):\n",
        "  # current_num = int(input(\"Enter a number:\"))\n",
        "  # previous_num = current_num - 1\n",
        "  print(\"Current Number \", current_num, \" Previous Number \", previous_num, \" Sum : \", previous_num + current_num)\n",
        "  current_num = current_num + 1\n",
        "  previous_num = current_num - 1"
      ],
      "metadata": {
        "colab": {
          "base_uri": "https://localhost:8080/"
        },
        "id": "INIuXmXYtCx9",
        "outputId": "55002cc0-5e5d-4f2c-b703-76f9481e6695"
      },
      "execution_count": 18,
      "outputs": [
        {
          "output_type": "stream",
          "name": "stdout",
          "text": [
            "Enter a number: 1\n",
            "Current Number  1  Previous Number  0  Sum :  1\n",
            "Current Number  2  Previous Number  1  Sum :  3\n",
            "Current Number  3  Previous Number  2  Sum :  5\n",
            "Current Number  4  Previous Number  3  Sum :  7\n",
            "Current Number  5  Previous Number  4  Sum :  9\n",
            "Current Number  6  Previous Number  5  Sum :  11\n",
            "Current Number  7  Previous Number  6  Sum :  13\n",
            "Current Number  8  Previous Number  7  Sum :  15\n",
            "Current Number  9  Previous Number  8  Sum :  17\n",
            "Current Number  10  Previous Number  9  Sum :  19\n"
          ]
        }
      ]
    },
    {
      "cell_type": "code",
      "source": [
        "# exercise - 3\n",
        "# Write a program to accept a string from the user and display characters that are present at an even index number.\n",
        "\n",
        "def main():\n",
        "  string = input(\"Enter the string: \")\n",
        "  index(string)\n",
        "\n",
        "def index(string):\n",
        "  for i in range(len(string)):\n",
        "    if i % 2 == 0:\n",
        "            print(\"Even index characters - \", string[i])\n",
        "    # else:\n",
        "    #         print(\"Odd index characters - \", string[i])\n",
        "\n",
        "main()"
      ],
      "metadata": {
        "colab": {
          "base_uri": "https://localhost:8080/"
        },
        "id": "q_kFiI5mub26",
        "outputId": "7ad8bbe1-25b9-4e1e-c395-e9083b8fcf56"
      },
      "execution_count": 31,
      "outputs": [
        {
          "output_type": "stream",
          "name": "stdout",
          "text": [
            "Enter the string: oggy\n",
            "Even index characters -  o\n",
            "Even index characters -  g\n"
          ]
        }
      ]
    },
    {
      "cell_type": "code",
      "source": [
        "# exeercise - 4\n",
        "# Write a program to remove characters from a string starting from zero up to n and return a new string.\n",
        "\n",
        "def main():\n",
        "  string = input(\"Enter the string: \")\n",
        "  index = int(input(\"Enter the index till which you have to remove the chars: \"))\n",
        "\n",
        "  removed_string = remove_chars(string, index)\n",
        "  print(removed_string)\n",
        "\n",
        "def remove_chars(string, index):\n",
        "  return string[index + 1:]\n",
        "\n",
        "main()"
      ],
      "metadata": {
        "colab": {
          "base_uri": "https://localhost:8080/"
        },
        "id": "PWfvl14dx8Iz",
        "outputId": "baf41c9d-ed46-4d31-f3ce-4eb0295752da"
      },
      "execution_count": 5,
      "outputs": [
        {
          "output_type": "stream",
          "name": "stdout",
          "text": [
            "Enter the string: archita\n",
            "Enter the index till which you have to remove the chars: 1\n",
            "chita\n"
          ]
        }
      ]
    },
    {
      "cell_type": "code",
      "source": [
        "# exercise - 5\n",
        "# Write a function to return True if the first and last number of a given list is same. If numbers are different then return False.\n",
        "\n",
        "def main():\n",
        "  entered_list = input(\"Enter the list of numbers: \")\n",
        "  mylist = list(map(int, entered_list.split()))\n",
        "\n",
        "  print(\"List - \", mylist)\n",
        "  value_checker(mylist)\n",
        "\n",
        "def value_checker(mylist):\n",
        "  size = len(mylist)\n",
        "  for i in range(size):\n",
        "    if(mylist[0] == mylist[size-1]):\n",
        "      print(\"Values are equal!\")\n",
        "      return True\n",
        "    else:\n",
        "      print(\"Values are not equal!\")\n",
        "      return False\n",
        "\n",
        "main()"
      ],
      "metadata": {
        "colab": {
          "base_uri": "https://localhost:8080/"
        },
        "id": "qSpi-F-7cOfm",
        "outputId": "8b249eca-0238-4dfc-a85f-52f9e73364c4"
      },
      "execution_count": 10,
      "outputs": [
        {
          "output_type": "stream",
          "name": "stdout",
          "text": [
            "Enter the list of numbers: 1 2 3 4 5\n",
            "List -  [1, 2, 3, 4, 5]\n",
            "Values are not equal!\n"
          ]
        }
      ]
    },
    {
      "cell_type": "code",
      "source": [
        "# Exercise - 6\n",
        "# Iterate the given list of numbers and print only those numbers which are divisible by 5\n",
        "\n",
        "def main():\n",
        "    input_list = input(\"Enter the list of numbers: \")\n",
        "    mylist = list(map(int, input_list.split()))\n",
        "\n",
        "    print(\"List - \", mylist)\n",
        "    divisible_numbers = divisible_by_five(mylist)\n",
        "    print(\"Numbers divisible by 5:\", divisible_numbers)\n",
        "\n",
        "def divisible_by_five(mylist):\n",
        "    divisible_numbers = []\n",
        "    for num in mylist:\n",
        "        if num % 5 == 0:\n",
        "            divisible_numbers.append(num)\n",
        "    return divisible_numbers\n",
        "\n",
        "main()"
      ],
      "metadata": {
        "colab": {
          "base_uri": "https://localhost:8080/"
        },
        "id": "vTLK6om4fSX-",
        "outputId": "f4697716-77a1-440f-a291-c2c7b01ce04a"
      },
      "execution_count": 17,
      "outputs": [
        {
          "output_type": "stream",
          "name": "stdout",
          "text": [
            "Enter the list of numbers: 10 20 30 4 5 6 7\n",
            "List -  [10, 20, 30, 4, 5, 6, 7]\n",
            "Numbers divisible by 5: [10, 20, 30, 5]\n"
          ]
        }
      ]
    },
    {
      "cell_type": "code",
      "source": [
        "# exercise - 7\n",
        "# Write a program to find how many times substring “Emma” appears in the given string.\n",
        "\n",
        "mystring = \"Emma is good developer. Emma is a writer\"\n",
        "term = input(\"Enter the term to be found \")\n",
        "count = mystring.count(term)\n",
        "print(f\"{term} appeared for {count} times\")"
      ],
      "metadata": {
        "colab": {
          "base_uri": "https://localhost:8080/"
        },
        "id": "XPR9rbkIg2ph",
        "outputId": "910e2afd-3fb3-4eb9-95a3-70d37d1bb5ff"
      },
      "execution_count": 20,
      "outputs": [
        {
          "output_type": "stream",
          "name": "stdout",
          "text": [
            "Enter the term to be found Emma\n",
            "Emma appeared for 2 times\n"
          ]
        }
      ]
    },
    {
      "cell_type": "code",
      "source": [
        "# exercise - 8\n",
        "# print this pattern:\n",
        "# 1\n",
        "# 2 2\n",
        "# 3 3 3\n",
        "# 4 4 4 4\n",
        "# 5 5 5 5 5\n",
        "\n",
        "size = int(input(\"Enter the size: \"))\n",
        "\n",
        "for num in range(size):\n",
        "  for i in range(num):\n",
        "    print(num, end = \" \")\n",
        "  print(\"\\n\")"
      ],
      "metadata": {
        "colab": {
          "base_uri": "https://localhost:8080/"
        },
        "id": "_sfq4UZWlEzj",
        "outputId": "f7bd4ecf-eb3e-423a-bb81-b246ba08bfcf"
      },
      "execution_count": 30,
      "outputs": [
        {
          "output_type": "stream",
          "name": "stdout",
          "text": [
            "Enter the size: 6\n",
            "\n",
            "\n",
            "1 \n",
            "\n",
            "2 2 \n",
            "\n",
            "3 3 3 \n",
            "\n",
            "4 4 4 4 \n",
            "\n",
            "5 5 5 5 5 \n",
            "\n"
          ]
        }
      ]
    },
    {
      "cell_type": "code",
      "source": [
        "# exercise - 9\n",
        "# Write a program to check if the given number is a palindrome number.\n",
        "# A palindrome number is a number that is the same after reverse. For example, 545, is the palindrome numbers\n",
        "\n",
        "def palindrome_check(number):\n",
        "    num_str = str(number)\n",
        "    return num_str == num_str[::-1]\n",
        "\n",
        "num = int(input(\"Enter a number: \"))\n",
        "\n",
        "if palindrome_check(num):\n",
        "    print(f\"{num} is a palindrome number.\")\n",
        "else:\n",
        "    print(f\"{num} is not a palindrome number.\")"
      ],
      "metadata": {
        "colab": {
          "base_uri": "https://localhost:8080/"
        },
        "id": "Iob_rcLdx1h3",
        "outputId": "87ef1f56-afc7-455d-f736-3370c1215f42"
      },
      "execution_count": 32,
      "outputs": [
        {
          "output_type": "stream",
          "name": "stdout",
          "text": [
            "Enter a number: 123\n",
            "123 is not a palindrome number.\n"
          ]
        }
      ]
    },
    {
      "cell_type": "code",
      "source": [
        "# exercise - 10\n",
        "# Create a new list from two list using the following condition\n",
        "# Given two list of numbers, write a program to create a new list such that the new list should contain odd numbers from the first list and even numbers from the second list.\n",
        "\n",
        "def main():\n",
        "  list_1 = [1, 2, 3, 4, 5]\n",
        "  list_2 = [6, 7, 8, 9, 10]\n",
        "  no_num = []\n",
        "  check_list_1(list_1, no_num)\n",
        "  check_list_2(list_2, no_num)\n",
        "  print(\"New list is - \", no_num)\n",
        "\n",
        "def check_list_1(list_1, no_num):\n",
        "  # no_num = []\n",
        "  # size = len(list_1)\n",
        "  for i in list_1:\n",
        "    if i % 2 != 0:\n",
        "      no_num.append(i)\n",
        "\n",
        "def check_list_2(list_2, no_num):\n",
        "  # no_num = []\n",
        "  # size1 = len(list_2)\n",
        "  for i in list_2:\n",
        "    if i % 2 == 0:\n",
        "      no_num.append(i)\n",
        "\n",
        "main()"
      ],
      "metadata": {
        "colab": {
          "base_uri": "https://localhost:8080/"
        },
        "id": "djeQY_gwx6KP",
        "outputId": "0c6b6d42-b211-4f01-e37f-87087b12d145"
      },
      "execution_count": 35,
      "outputs": [
        {
          "output_type": "stream",
          "name": "stdout",
          "text": [
            "New list is -  [1, 3, 5, 6, 8, 10]\n"
          ]
        }
      ]
    }
  ]
}