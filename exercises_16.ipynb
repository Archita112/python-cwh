{
  "nbformat": 4,
  "nbformat_minor": 0,
  "metadata": {
    "colab": {
      "provenance": []
    },
    "kernelspec": {
      "name": "python3",
      "display_name": "Python 3"
    },
    "language_info": {
      "name": "python"
    }
  },
  "cells": [
    {
      "cell_type": "code",
      "execution_count": 2,
      "metadata": {
        "colab": {
          "base_uri": "https://localhost:8080/"
        },
        "id": "9gDLHmfO3B69",
        "outputId": "3786209b-3a9a-4fcd-f88f-a19fb7fd58ee"
      },
      "outputs": [
        {
          "output_type": "stream",
          "name": "stdout",
          "text": [
            "number - 7536\n",
            "Reversed number -  6357\n"
          ]
        }
      ],
      "source": [
        "# exercise - 11\n",
        "# For example, If the given int is 7536, the output shall be “6 3 5 7“, with a space separating the digits.\n",
        "\n",
        "def main():\n",
        "  num = int(input(\"number - \"))\n",
        "\n",
        "  my_str = str(num)\n",
        "\n",
        "  reverse_str = my_str[::-1]\n",
        "  print(\"Reversed number - \", reverse_str)\n",
        "\n",
        "main()"
      ]
    },
    {
      "cell_type": "code",
      "source": [
        "# exercise - 12\n",
        "# Calculate income tax for the given income by adhering to the rules below.\n",
        "# for first 10000 tax percent is 0\n",
        "# for next 10000 tax percent is 10\n",
        "# for next remaining amount tax percent is 20\n",
        "\n",
        "income = int(input(\"Income: \"))\n",
        "\n",
        "def tax_count(income):\n",
        "  if income <= 10000:\n",
        "    tax_paid = 0\n",
        "    print(f\"${tax_paid}\")\n",
        "  elif income <= 20000:\n",
        "    tax_paid = (income - 10000) * 0.1\n",
        "    print(f\"${tax_paid}\")\n",
        "  else:\n",
        "    tax_paid = 10000 * 0 + 10000 * 0.1 + (income - 20000) * 0.2\n",
        "    print(f\"${tax_paid}\")\n",
        "\n",
        "if income >= 0:\n",
        "  tax_count(income)\n",
        "  # print(f\"Income: ${income}, Tax Paid: ${tax_paid}\")\n",
        "else:\n",
        "  print(\"error occurred!\")"
      ],
      "metadata": {
        "colab": {
          "base_uri": "https://localhost:8080/"
        },
        "id": "XB8FK5KVWEp4",
        "outputId": "0228f7c5-1225-44f9-ddd4-54d529b77f01"
      },
      "execution_count": 9,
      "outputs": [
        {
          "output_type": "stream",
          "name": "stdout",
          "text": [
            "Income: 40000\n",
            "$5000.0\n"
          ]
        }
      ]
    },
    {
      "cell_type": "code",
      "source": [
        "# exercise - 13\n",
        "# Print multiplication table from 1 to 10\n",
        "# 1  2 3 4 5 6 7 8 9 10\n",
        "# 2  4 6 8 10 12 14 16 18 20\n",
        "# 3  6 9 12 15 18 21 24 27 30\n",
        "# 4  8 12 16 20 24 28 32 36 40\n",
        "# 5  10 15 20 25 30 35 40 45 50\n",
        "# 6  12 18 24 30 36 42 48 54 60\n",
        "# 7  14 21 28 35 42 49 56 63 70\n",
        "# 8  16 24 32 40 48 56 64 72 80\n",
        "# 9  18 27 36 45 54 63 72 81 90\n",
        "# 10 20 30 40 50 60 70 80 90 100\n",
        "\n",
        "number = int(input(\"number - \"))\n",
        "\n",
        "def multiplication_table(number):\n",
        "  for i in range(1, number):\n",
        "    for j in range(1, number):\n",
        "      print(i * j, end = \" \")\n",
        "    print(\"\\t\\t\")\n",
        "\n",
        "multiplication_table(number)"
      ],
      "metadata": {
        "colab": {
          "base_uri": "https://localhost:8080/"
        },
        "id": "HVJ20SaFfM--",
        "outputId": "249491d9-88e5-4d12-c827-e48a8484de04"
      },
      "execution_count": 13,
      "outputs": [
        {
          "output_type": "stream",
          "name": "stdout",
          "text": [
            "number - 21\n",
            "1 2 3 4 5 6 7 8 9 10 11 12 13 14 15 16 17 18 19 20 \t\t\n",
            "2 4 6 8 10 12 14 16 18 20 22 24 26 28 30 32 34 36 38 40 \t\t\n",
            "3 6 9 12 15 18 21 24 27 30 33 36 39 42 45 48 51 54 57 60 \t\t\n",
            "4 8 12 16 20 24 28 32 36 40 44 48 52 56 60 64 68 72 76 80 \t\t\n",
            "5 10 15 20 25 30 35 40 45 50 55 60 65 70 75 80 85 90 95 100 \t\t\n",
            "6 12 18 24 30 36 42 48 54 60 66 72 78 84 90 96 102 108 114 120 \t\t\n",
            "7 14 21 28 35 42 49 56 63 70 77 84 91 98 105 112 119 126 133 140 \t\t\n",
            "8 16 24 32 40 48 56 64 72 80 88 96 104 112 120 128 136 144 152 160 \t\t\n",
            "9 18 27 36 45 54 63 72 81 90 99 108 117 126 135 144 153 162 171 180 \t\t\n",
            "10 20 30 40 50 60 70 80 90 100 110 120 130 140 150 160 170 180 190 200 \t\t\n",
            "11 22 33 44 55 66 77 88 99 110 121 132 143 154 165 176 187 198 209 220 \t\t\n",
            "12 24 36 48 60 72 84 96 108 120 132 144 156 168 180 192 204 216 228 240 \t\t\n",
            "13 26 39 52 65 78 91 104 117 130 143 156 169 182 195 208 221 234 247 260 \t\t\n",
            "14 28 42 56 70 84 98 112 126 140 154 168 182 196 210 224 238 252 266 280 \t\t\n",
            "15 30 45 60 75 90 105 120 135 150 165 180 195 210 225 240 255 270 285 300 \t\t\n",
            "16 32 48 64 80 96 112 128 144 160 176 192 208 224 240 256 272 288 304 320 \t\t\n",
            "17 34 51 68 85 102 119 136 153 170 187 204 221 238 255 272 289 306 323 340 \t\t\n",
            "18 36 54 72 90 108 126 144 162 180 198 216 234 252 270 288 306 324 342 360 \t\t\n",
            "19 38 57 76 95 114 133 152 171 190 209 228 247 266 285 304 323 342 361 380 \t\t\n",
            "20 40 60 80 100 120 140 160 180 200 220 240 260 280 300 320 340 360 380 400 \t\t\n"
          ]
        }
      ]
    },
    {
      "cell_type": "code",
      "source": [
        "# exercise - 14\n",
        "# Print a downward Half-Pyramid Pattern of Star\n",
        "# * * * * *\n",
        "# * * * *\n",
        "# * * *\n",
        "# * *\n",
        "# *\n",
        "\n",
        "number = int(input(\"number - \"))\n",
        "\n",
        "def star_print(number):\n",
        "  for i in range(number, 0, -1):\n",
        "    print(\"*\" * i, end = \"\\n\")\n",
        "\n",
        "star_print(number)"
      ],
      "metadata": {
        "colab": {
          "base_uri": "https://localhost:8080/"
        },
        "id": "VRiyQSBMn-RS",
        "outputId": "b723eff7-ff31-4010-a1e2-0ab499e32d4f"
      },
      "execution_count": 18,
      "outputs": [
        {
          "output_type": "stream",
          "name": "stdout",
          "text": [
            "number - 6\n",
            "******\n",
            "*****\n",
            "****\n",
            "***\n",
            "**\n",
            "*\n"
          ]
        }
      ]
    },
    {
      "cell_type": "code",
      "source": [
        "# exercise - 15\n",
        "# Write a function called exponent(base, exp) that returns an int value of base raises to the power of exp.\n",
        "\n",
        "def main():\n",
        "  base = int(input(\"Base - \"))\n",
        "  exp = int(input(\"Exp - \"))\n",
        "\n",
        "  integer = exponent(base, exp)\n",
        "  print(f\"For {base}, the exponent is {exp} and answer is {integer}\")\n",
        "\n",
        "def exponent(base, exp):\n",
        "  return base ** exp\n",
        "\n",
        "main()"
      ],
      "metadata": {
        "colab": {
          "base_uri": "https://localhost:8080/"
        },
        "id": "d19u8hZfpPYa",
        "outputId": "19ae717f-5c42-4297-d906-1e24a16ed9c7"
      },
      "execution_count": 3,
      "outputs": [
        {
          "output_type": "stream",
          "name": "stdout",
          "text": [
            "Base - 2\n",
            "Exp - 4\n",
            "For 2, the exponent is 4 and answer is 16\n"
          ]
        }
      ]
    },
    {
      "cell_type": "code",
      "source": [
        "# exercise - 16\n",
        "# Write a program to accept two numbers from the user and calculate multiplication\n",
        "\n",
        "m = int(input(\"NUmber - \"))\n",
        "n = int(input(\"NUmber 1 - \"))\n",
        "\n",
        "y = m * n\n",
        "print(f\"Product of {m} and {n} is {y}\")"
      ],
      "metadata": {
        "colab": {
          "base_uri": "https://localhost:8080/"
        },
        "id": "Tuhh0MWgeaV0",
        "outputId": "62e7e191-bb28-4bcf-aaea-21781601d7a4"
      },
      "execution_count": 5,
      "outputs": [
        {
          "output_type": "stream",
          "name": "stdout",
          "text": [
            "NUmber - 5\n",
            "NUmber 1 - 4\n",
            "Product of 5 and 4 is 20\n"
          ]
        }
      ]
    }
  ]
}