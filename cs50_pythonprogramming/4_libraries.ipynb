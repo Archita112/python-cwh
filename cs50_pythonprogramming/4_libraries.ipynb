{
  "nbformat": 4,
  "nbformat_minor": 0,
  "metadata": {
    "colab": {
      "provenance": []
    },
    "kernelspec": {
      "name": "python3",
      "display_name": "Python 3"
    },
    "language_info": {
      "name": "python"
    }
  },
  "cells": [
    {
      "cell_type": "code",
      "execution_count": 5,
      "metadata": {
        "colab": {
          "base_uri": "https://localhost:8080/"
        },
        "id": "QQ3s_a3ZaIqJ",
        "outputId": "5e84cd00-7c94-4a4e-964f-a9d1c3bf1803"
      },
      "outputs": [
        {
          "output_type": "stream",
          "name": "stdout",
          "text": [
            "heads\n"
          ]
        }
      ],
      "source": [
        "from random import choice\n",
        "\n",
        "coin = choice([\"heads\", \"tails\"])\n",
        "print(coin)"
      ]
    },
    {
      "cell_type": "code",
      "source": [
        "import random\n",
        "\n",
        "number = random.randint(1, 10)\n",
        "print(number)\n",
        "# print(number)\n",
        "# print(number)\n",
        "# print(number)"
      ],
      "metadata": {
        "colab": {
          "base_uri": "https://localhost:8080/"
        },
        "id": "ut87hamobcnJ",
        "outputId": "e0fc6f23-b4cb-4654-cc63-0abe031de226"
      },
      "execution_count": 9,
      "outputs": [
        {
          "output_type": "stream",
          "name": "stdout",
          "text": [
            "10\n"
          ]
        }
      ]
    },
    {
      "cell_type": "code",
      "source": [
        "import random\n",
        "\n",
        "cards = [\"jack\", \"queen\", \"king\"]\n",
        "random.shuffle(cards)\n",
        "for card in cards:\n",
        "  print(card)"
      ],
      "metadata": {
        "colab": {
          "base_uri": "https://localhost:8080/"
        },
        "id": "EipFnRolEJBU",
        "outputId": "71d48ab9-2497-408b-8dba-35ba3fa5b74c"
      },
      "execution_count": 12,
      "outputs": [
        {
          "output_type": "stream",
          "name": "stdout",
          "text": [
            "king\n",
            "queen\n",
            "jack\n"
          ]
        }
      ]
    },
    {
      "cell_type": "code",
      "source": [
        "import random\n",
        "\n",
        "cards = [\"jack\", \"queen\", \"king\"]\n",
        "random.shuffle(cards)\n",
        "print(cards)"
      ],
      "metadata": {
        "colab": {
          "base_uri": "https://localhost:8080/"
        },
        "id": "V3G0b8-uQIe7",
        "outputId": "4ec67c3e-71d8-43ba-8098-6cd610704007"
      },
      "execution_count": 11,
      "outputs": [
        {
          "output_type": "stream",
          "name": "stdout",
          "text": [
            "['jack', 'queen', 'king']\n"
          ]
        }
      ]
    },
    {
      "cell_type": "code",
      "source": [
        "import statistics\n",
        "\n",
        "print(statistics.mean([100, 90]))"
      ],
      "metadata": {
        "colab": {
          "base_uri": "https://localhost:8080/"
        },
        "id": "mlS7fJ3iQNP3",
        "outputId": "52b2142c-1ffe-48d9-d65e-1a0f383dd368"
      },
      "execution_count": 13,
      "outputs": [
        {
          "output_type": "stream",
          "name": "stdout",
          "text": [
            "95\n"
          ]
        }
      ]
    },
    {
      "cell_type": "code",
      "source": [
        "import sys\n",
        "\n",
        "print(\"Hello my name is, \", sys.argv[1])\n",
        "# while running this we need to type a command in the commandline as our name"
      ],
      "metadata": {
        "colab": {
          "base_uri": "https://localhost:8080/"
        },
        "id": "AJ6d_pS6Y6iL",
        "outputId": "f851f835-07bc-4ef0-8091-32be9bb3f6a7"
      },
      "execution_count": 15,
      "outputs": [
        {
          "output_type": "stream",
          "name": "stdout",
          "text": [
            "Hello my name is,  -f\n"
          ]
        }
      ]
    },
    {
      "cell_type": "code",
      "source": [
        "import sys\n",
        "\n",
        "try:\n",
        "  print(\"Hello my name is, \", sys.argv[1])\n",
        "except IndexError:\n",
        "  print(\"Too few arguments\")"
      ],
      "metadata": {
        "colab": {
          "base_uri": "https://localhost:8080/"
        },
        "id": "SifRwcvmaaD-",
        "outputId": "2bafe07c-dd21-49ca-ddef-700289879367"
      },
      "execution_count": 1,
      "outputs": [
        {
          "output_type": "stream",
          "name": "stdout",
          "text": [
            "Hello my name is,  -f\n"
          ]
        }
      ]
    },
    {
      "cell_type": "code",
      "source": [
        "import sys\n",
        "\n",
        "if len(sys.argv) < 2:\n",
        "  print(\"Too few arguments\")\n",
        "elif len(sys.argv) > 2:\n",
        "  print(\"Too many arguments\")\n",
        "else:\n",
        "  print(\"Hello my name is, \", sys.argv[1])"
      ],
      "metadata": {
        "colab": {
          "base_uri": "https://localhost:8080/"
        },
        "id": "1ete9KqmPKPV",
        "outputId": "4c0eb71a-ac4a-4b9f-d6fe-b2a090099359"
      },
      "execution_count": 2,
      "outputs": [
        {
          "output_type": "stream",
          "name": "stdout",
          "text": [
            "Too many arguments\n"
          ]
        }
      ]
    },
    {
      "cell_type": "code",
      "source": [
        "import sys\n",
        "\n",
        "if len(sys.argv) < 2:\n",
        "  sys.exit(\"Too few arguments\")\n",
        "elif len(sys.argv) > 2:\n",
        "  sys.exit(\"Too many arguments\")\n",
        "\n",
        "print(\"Hello my name is, \", sys.argv[1])"
      ],
      "metadata": {
        "colab": {
          "base_uri": "https://localhost:8080/",
          "height": 158
        },
        "id": "mjkYn36sQLaP",
        "outputId": "6abfdd3d-6b69-4740-c214-dcf2f2e53b71"
      },
      "execution_count": 3,
      "outputs": [
        {
          "output_type": "error",
          "ename": "SystemExit",
          "evalue": "ignored",
          "traceback": [
            "An exception has occurred, use %tb to see the full traceback.\n",
            "\u001b[0;31mSystemExit\u001b[0m\u001b[0;31m:\u001b[0m Too many arguments\n"
          ]
        },
        {
          "output_type": "stream",
          "name": "stderr",
          "text": [
            "/usr/local/lib/python3.10/dist-packages/IPython/core/interactiveshell.py:3561: UserWarning: To exit: use 'exit', 'quit', or Ctrl-D.\n",
            "  warn(\"To exit: use 'exit', 'quit', or Ctrl-D.\", stacklevel=1)\n"
          ]
        }
      ]
    },
    {
      "cell_type": "code",
      "source": [
        "import sys\n",
        "\n",
        "if len(sys.argv) < 2:\n",
        "  sys.exit(\"Too few arguments\")\n",
        "\n",
        "for arg in sys.argv[1:]:\n",
        "  print(\"Hello my name is, \", arg)"
      ],
      "metadata": {
        "colab": {
          "base_uri": "https://localhost:8080/"
        },
        "id": "erSiYVGpSKZy",
        "outputId": "cb52a3ea-9cbc-4f30-9fcd-d6faa66b71de"
      },
      "execution_count": 4,
      "outputs": [
        {
          "output_type": "stream",
          "name": "stdout",
          "text": [
            "Hello my name is,  -f\n",
            "Hello my name is,  /root/.local/share/jupyter/runtime/kernel-b4a862e0-7924-4827-a753-222881b411f3.json\n"
          ]
        }
      ]
    },
    {
      "cell_type": "code",
      "source": [
        "pip install cowsay"
      ],
      "metadata": {
        "colab": {
          "base_uri": "https://localhost:8080/"
        },
        "id": "X0wyNS3jTwb3",
        "outputId": "b5765d82-6aef-46be-dbeb-e962f2c2053f"
      },
      "execution_count": 5,
      "outputs": [
        {
          "output_type": "stream",
          "name": "stdout",
          "text": [
            "Collecting cowsay\n",
            "  Downloading cowsay-6.1-py3-none-any.whl (25 kB)\n",
            "Installing collected packages: cowsay\n",
            "Successfully installed cowsay-6.1\n"
          ]
        }
      ]
    },
    {
      "cell_type": "code",
      "source": [
        "import cowsay\n",
        "import sys\n",
        "\n",
        "# if len(sys.argv) == 2:\n",
        "#   cowsay.cow(\"hello, \" + sys.argv[1])\n",
        "cowsay.cow(\"Hello Archita\")"
      ],
      "metadata": {
        "colab": {
          "base_uri": "https://localhost:8080/"
        },
        "id": "k97L5iBgZ-HX",
        "outputId": "21a00006-981e-4f6b-e8a0-4ad4374562d2"
      },
      "execution_count": 7,
      "outputs": [
        {
          "output_type": "stream",
          "name": "stdout",
          "text": [
            "  _____________\n",
            "| Hello Archita |\n",
            "  =============\n",
            "             \\\n",
            "              \\\n",
            "                ^__^\n",
            "                (oo)\\_______\n",
            "                (__)\\       )\\/\\\n",
            "                    ||----w |\n",
            "                    ||     ||\n"
          ]
        }
      ]
    },
    {
      "cell_type": "code",
      "source": [
        "import cowsay\n",
        "import sys\n",
        "\n",
        "# if len(sys.argv) == 2:\n",
        "#   cowsay.cow(\"hello, \" + sys.argv[1])\n",
        "cowsay.trex(\"Hello Archita\")"
      ],
      "metadata": {
        "colab": {
          "base_uri": "https://localhost:8080/"
        },
        "id": "0Jhx5ynfalLj",
        "outputId": "d66b9a57-0be4-4e7d-9394-0fd29f935614"
      },
      "execution_count": 8,
      "outputs": [
        {
          "output_type": "stream",
          "name": "stdout",
          "text": [
            "  _____________\n",
            "| Hello Archita |\n",
            "  =============\n",
            "                    \\\n",
            "                     \\\n",
            "                      \\\n",
            "                       \\\n",
            "                          .-=-==--==--.\n",
            "                    ..-==\"  ,'o`)      `.\n",
            "                  ,'         `\"'         \\\n",
            "                 :  (                     `.__...._\n",
            "                 |                  )    /         `-=-.\n",
            "                 :       ,vv.-._   /    /               `---==-._\n",
            "                  \\/\\/\\/VV ^ d88`;'    /                         `.\n",
            "                      ``  ^/d88P!'    /             ,              `._\n",
            "                         ^/    !'   ,.      ,      /                  \"-,,__,,--'\"\"\"\"-.\n",
            "                        ^/    !'  ,'  \\ . .(      (         _           )  ) ) ) ))_,-.\\\n",
            "                       ^(__ ,!',\"'   ;:+.:%:a.     \\:.. . ,'          )  )  ) ) ,\"'    '\n",
            "                       ',,,'','     /o:::\":%:%a.    \\:.:.:         .    )  ) _,'\n",
            "                        \"\"\"'       ;':::'' `+%%%a._  \\%:%|         ;.). _,-\"\"\n",
            "                               ,-='_.-'      ``:%::)  )%:|        /:._,\"\n",
            "                              (/(/\"           ,\" ,'_,'%%%:       (_,'\n",
            "                                             (  (//(`.___;        \\\n",
            "                                              \\     \\    `         `\n",
            "                                               `.    `.   `.        :\n",
            "                                                 \\. . .\\    : . . . :\n",
            "                                                  \\. . .:    `.. . .:\n",
            "                                                   `..:.:\\     \\:...\\\n",
            "                                                    ;:.:.;      ::...:\n",
            "                                                    ):%::       :::::;\n",
            "                                                __,::%:(        :::::\n",
            "                                             ,;:%%%%%%%:        ;:%::\n",
            "                                               ;,--\"\"-.`\\  ,=--':%:%:\\\n",
            "                                              /\"       \"| /-\".:%%%%%%%\\\n",
            "                                                              ;,-\"'`)%%)\n",
            "                                                             /\"      \"|\n"
          ]
        }
      ]
    },
    {
      "cell_type": "code",
      "source": [
        "pip install requests"
      ],
      "metadata": {
        "colab": {
          "base_uri": "https://localhost:8080/"
        },
        "id": "t3-f00n2bPB-",
        "outputId": "01ad6c60-f166-4b64-f067-42034cc5715a"
      },
      "execution_count": 9,
      "outputs": [
        {
          "output_type": "stream",
          "name": "stdout",
          "text": [
            "Requirement already satisfied: requests in /usr/local/lib/python3.10/dist-packages (2.31.0)\n",
            "Requirement already satisfied: charset-normalizer<4,>=2 in /usr/local/lib/python3.10/dist-packages (from requests) (3.3.2)\n",
            "Requirement already satisfied: idna<4,>=2.5 in /usr/local/lib/python3.10/dist-packages (from requests) (3.6)\n",
            "Requirement already satisfied: urllib3<3,>=1.21.1 in /usr/local/lib/python3.10/dist-packages (from requests) (2.0.7)\n",
            "Requirement already satisfied: certifi>=2017.4.17 in /usr/local/lib/python3.10/dist-packages (from requests) (2023.11.17)\n"
          ]
        }
      ]
    },
    {
      "cell_type": "code",
      "source": [
        "import json\n",
        "import requests\n",
        "import sys\n",
        "\n",
        "# if len(sys.argv) != 2:\n",
        "#   sys.exit()\n",
        "\n",
        "response = requests.get(\"https://itunes.apple.com/search?entity=song&limit=1&term=taylorswift\")\n",
        "print(json.dumps(response.json(), indent = 2))"
      ],
      "metadata": {
        "colab": {
          "base_uri": "https://localhost:8080/"
        },
        "id": "N9Wt9wegcYPF",
        "outputId": "a90d215e-4823-4d6b-f4a3-48c4a8496de2"
      },
      "execution_count": 15,
      "outputs": [
        {
          "output_type": "stream",
          "name": "stdout",
          "text": [
            "{\n",
            "  \"resultCount\": 1,\n",
            "  \"results\": [\n",
            "    {\n",
            "      \"wrapperType\": \"track\",\n",
            "      \"kind\": \"song\",\n",
            "      \"artistId\": 159260351,\n",
            "      \"collectionId\": 1440913923,\n",
            "      \"trackId\": 1440914010,\n",
            "      \"artistName\": \"Taylor Swift\",\n",
            "      \"collectionName\": \"Taylor Swift (Bonus Track Version)\",\n",
            "      \"trackName\": \"Our Song\",\n",
            "      \"collectionCensoredName\": \"Taylor Swift (Bonus Track Version)\",\n",
            "      \"trackCensoredName\": \"Our Song\",\n",
            "      \"artistViewUrl\": \"https://music.apple.com/us/artist/taylor-swift/159260351?uo=4\",\n",
            "      \"collectionViewUrl\": \"https://music.apple.com/us/album/our-song/1440913923?i=1440914010&uo=4\",\n",
            "      \"trackViewUrl\": \"https://music.apple.com/us/album/our-song/1440913923?i=1440914010&uo=4\",\n",
            "      \"previewUrl\": \"https://audio-ssl.itunes.apple.com/itunes-assets/AudioPreview115/v4/c8/da/b7/c8dab799-c65a-dd8e-a1aa-5c23cdde8bac/mzaf_8311999419602397877.plus.aac.p.m4a\",\n",
            "      \"artworkUrl30\": \"https://is1-ssl.mzstatic.com/image/thumb/Music114/v4/32/b5/6b/32b56b49-0075-7128-e6ec-7c3c4c697242/00843930000821.rgb.jpg/30x30bb.jpg\",\n",
            "      \"artworkUrl60\": \"https://is1-ssl.mzstatic.com/image/thumb/Music114/v4/32/b5/6b/32b56b49-0075-7128-e6ec-7c3c4c697242/00843930000821.rgb.jpg/60x60bb.jpg\",\n",
            "      \"artworkUrl100\": \"https://is1-ssl.mzstatic.com/image/thumb/Music114/v4/32/b5/6b/32b56b49-0075-7128-e6ec-7c3c4c697242/00843930000821.rgb.jpg/100x100bb.jpg\",\n",
            "      \"collectionPrice\": 9.99,\n",
            "      \"trackPrice\": 1.29,\n",
            "      \"releaseDate\": \"2006-10-24T12:00:00Z\",\n",
            "      \"collectionExplicitness\": \"notExplicit\",\n",
            "      \"trackExplicitness\": \"notExplicit\",\n",
            "      \"discCount\": 1,\n",
            "      \"discNumber\": 1,\n",
            "      \"trackCount\": 15,\n",
            "      \"trackNumber\": 11,\n",
            "      \"trackTimeMillis\": 201107,\n",
            "      \"country\": \"USA\",\n",
            "      \"currency\": \"USD\",\n",
            "      \"primaryGenreName\": \"Country\",\n",
            "      \"isStreamable\": true\n",
            "    }\n",
            "  ]\n",
            "}\n"
          ]
        }
      ]
    },
    {
      "cell_type": "code",
      "source": [
        "import json\n",
        "import requests\n",
        "import sys\n",
        "\n",
        "# if len(sys.argv) != 2:\n",
        "#   sys.exit()\n",
        "\n",
        "response = requests.get(\"https://itunes.apple.com/search?entity=song&limit=50&term=drake\")\n",
        "# print(json.dumps(response.json(), indent = 2))\n",
        "\n",
        "o = response.json()\n",
        "\n",
        "for result in o[\"results\"]:\n",
        "  print(result[\"trackName\"])"
      ],
      "metadata": {
        "colab": {
          "base_uri": "https://localhost:8080/"
        },
        "id": "E4qZCHuwd0fR",
        "outputId": "faa94f16-3ff1-434a-a0fe-97c143a2d9dc"
      },
      "execution_count": 3,
      "outputs": [
        {
          "output_type": "stream",
          "name": "stdout",
          "text": [
            "Mine (feat. Drake)\n",
            "Drake\n",
            "Drake\n",
            "Drake\n",
            "Where Ya At (feat. Drake)\n",
            "Leave It All to Me (Theme from ICarly) [feat. Drake Bell]\n",
            "R.I.C.O. (feat. Drake)\n",
            "Round of Applause (feat. Drake)\n",
            "For Free (feat. Drake)\n",
            "Odio (feat. Drake)\n",
            "Fall for Your Type (feat. Drake)\n",
            "Fed Up (feat. Usher, Drake, Rick Ross & Young Jeezy)\n",
            "Both (feat. Drake)\n",
            "Fall for Your Type (feat. Drake)\n",
            "Drake\n",
            "Amen (feat. Drake)\n",
            "Un-thinkable (I'm Ready) [Remix] {feat. Drake}\n",
            "Going Bad (feat. Drake)\n",
            "100 (feat. Drake)\n",
            "Used to This (feat. Drake)\n",
            "Life Is Good (feat. Drake)\n",
            "Drake\n",
            "DnF (feat. Drake & Future)\n",
            "Deuces (Remix) [feat. Drake, T.I., Kanye West, Fabolous, Rick Ross & André 3000]\n",
            "Successful (Drake and Trey Songz)\n",
            "Drake\n",
            "Lemon (feat. Drake)\n",
            "Drake\n",
            "Tony Montana (feat. Drake)\n",
            "To the Max (feat. Drake)\n",
            "Digital Girl (Remix) [feat. Drake, Kanye West & The-Dream]\n",
            "D.R.A.K.E.\n",
            "Mine (feat. Drake)\n",
            "No Guns Allowed (feat. Cori B & Drake)\n",
            "POPSTAR (feat. Drake)\n",
            "I Invented Sex (feat. Drake)\n",
            "We in This 1.5 (feat. Drake & Future)\n",
            "Needle (feat. Drake)\n",
            "Celebration (feat. Drake)\n",
            "No Stylist (feat. Drake)\n",
            "F**kin' Problems (feat. Drake, 2 Chainz & Kendrick Lamar)\n",
            "Leave It All to Me (Theme from \"iCarly\") [feat. Drake Bell]\n",
            "Round of Applause (feat. Drake)\n",
            "For Free (feat. Drake)\n",
            "No Guidance (feat. Drake)\n",
            "Fall for Your Type (feat. Drake)\n",
            "Versace (feat. Drake) [Remix]\n",
            "In My Feelings\n",
            "Drake\n",
            "Never Satisfied (feat. Drake)\n"
          ]
        }
      ]
    },
    {
      "cell_type": "code",
      "source": [
        "def hello(name):\n",
        "  print(f\"Hello, {name}\")\n",
        "\n",
        "def goodbye(name):\n",
        "  print(f\"Goodbye, {name}\")\n",
        "\n",
        "def main():\n",
        "  name = input(\"Name: \")\n",
        "  hello(name)\n",
        "  goodbye(name)\n",
        "\n",
        "if __name__ == \"__main__\":\n",
        "  main()"
      ],
      "metadata": {
        "colab": {
          "base_uri": "https://localhost:8080/"
        },
        "id": "KvIfc2YSfhBB",
        "outputId": "04f69af6-906d-4c06-b163-ea7483e8a32f"
      },
      "execution_count": 6,
      "outputs": [
        {
          "output_type": "stream",
          "name": "stdout",
          "text": [
            "Name: cudie\n",
            "Hello, cudie\n",
            "Goodbye, cudie\n"
          ]
        }
      ]
    }
  ]
}