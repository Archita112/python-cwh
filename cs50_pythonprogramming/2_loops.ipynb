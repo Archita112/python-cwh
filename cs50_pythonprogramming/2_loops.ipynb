{
  "nbformat": 4,
  "nbformat_minor": 0,
  "metadata": {
    "colab": {
      "provenance": []
    },
    "kernelspec": {
      "name": "python3",
      "display_name": "Python 3"
    },
    "language_info": {
      "name": "python"
    }
  },
  "cells": [
    {
      "cell_type": "code",
      "execution_count": 1,
      "metadata": {
        "colab": {
          "base_uri": "https://localhost:8080/"
        },
        "id": "X0ovyEyzJ1_G",
        "outputId": "0243b39e-392d-4f93-9d7d-7f22e8d5853f"
      },
      "outputs": [
        {
          "output_type": "stream",
          "name": "stdout",
          "text": [
            "meow\n",
            "meow\n",
            "meow\n"
          ]
        }
      ],
      "source": [
        "print(\"meow\")\n",
        "print(\"meow\")\n",
        "print(\"meow\")"
      ]
    },
    {
      "cell_type": "code",
      "source": [
        "# for repeating any piece of code we use loops\n",
        "i = 3\n",
        "while i != 0:\n",
        "  print(\"meow\")\n",
        "  i = i - 1"
      ],
      "metadata": {
        "colab": {
          "base_uri": "https://localhost:8080/"
        },
        "id": "fRyaMVGQKkOY",
        "outputId": "54f18c69-98d5-4ed3-a073-b511f74d4734"
      },
      "execution_count": 3,
      "outputs": [
        {
          "output_type": "stream",
          "name": "stdout",
          "text": [
            "meow\n",
            "meow\n",
            "meow\n"
          ]
        }
      ]
    },
    {
      "cell_type": "code",
      "source": [
        "i = 1\n",
        "while i != 3:\n",
        "  print(\"meow\")\n",
        "  i = i + 1"
      ],
      "metadata": {
        "colab": {
          "base_uri": "https://localhost:8080/"
        },
        "id": "U4dK9SFfOUDL",
        "outputId": "f583c685-f994-4b5c-b8f2-76962a713cd0"
      },
      "execution_count": 4,
      "outputs": [
        {
          "output_type": "stream",
          "name": "stdout",
          "text": [
            "meow\n",
            "meow\n"
          ]
        }
      ]
    },
    {
      "cell_type": "code",
      "source": [
        "i = 0\n",
        "while i != 3:\n",
        "  print(\"meow\")\n",
        "  # i = i + 1\n",
        "  i += 1"
      ],
      "metadata": {
        "colab": {
          "base_uri": "https://localhost:8080/"
        },
        "id": "muDIjGoDO0jJ",
        "outputId": "620625e9-2de3-4c75-bf23-d00e5c82336c"
      },
      "execution_count": 6,
      "outputs": [
        {
          "output_type": "stream",
          "name": "stdout",
          "text": [
            "meow\n",
            "meow\n",
            "meow\n"
          ]
        }
      ]
    },
    {
      "cell_type": "code",
      "source": [
        "# using of for loop\n",
        "# for i in [0, 1, 2]:\n",
        "#   print(\"meow\")\n",
        "\n",
        "# after using range\n",
        "for _ in range(10):\n",
        "  print(\"meow\")"
      ],
      "metadata": {
        "colab": {
          "base_uri": "https://localhost:8080/"
        },
        "id": "QU-1B_6PO3dZ",
        "outputId": "6c61a8b2-b09b-4acf-ec8c-cf6f42e51375"
      },
      "execution_count": 10,
      "outputs": [
        {
          "output_type": "stream",
          "name": "stdout",
          "text": [
            "meow\n",
            "meow\n",
            "meow\n",
            "meow\n",
            "meow\n",
            "meow\n",
            "meow\n",
            "meow\n",
            "meow\n",
            "meow\n"
          ]
        }
      ]
    },
    {
      "cell_type": "code",
      "source": [
        "print(\"meow\\n\" * 3, end=\"\")"
      ],
      "metadata": {
        "colab": {
          "base_uri": "https://localhost:8080/"
        },
        "id": "NHYFD9DySZYE",
        "outputId": "1beeaa58-48b5-4fb4-a3a0-97ef11788e64"
      },
      "execution_count": 14,
      "outputs": [
        {
          "output_type": "stream",
          "name": "stdout",
          "text": [
            "meow\n",
            "meow\n",
            "meow\n"
          ]
        }
      ]
    },
    {
      "cell_type": "code",
      "source": [
        "while True:\n",
        "  n = int(input(\"What's n? \"))\n",
        "  if n < 0:\n",
        "    print(\"why negative number?\")\n",
        "    continue\n",
        "  else:\n",
        "    print(\"finallyy....\")\n",
        "    break;\n",
        "\n",
        "for _ in range(n):\n",
        "  print(\"meow\")"
      ],
      "metadata": {
        "colab": {
          "base_uri": "https://localhost:8080/"
        },
        "id": "igbZytSUTh-M",
        "outputId": "d6cb9801-b02a-46dd-cca3-ab99e31e2c8d"
      },
      "execution_count": 19,
      "outputs": [
        {
          "output_type": "stream",
          "name": "stdout",
          "text": [
            "What's n? 3\n",
            "finallyy....\n",
            "meow\n",
            "meow\n",
            "meow\n"
          ]
        }
      ]
    },
    {
      "cell_type": "code",
      "source": [
        "def main():\n",
        "  meow(3)\n",
        "\n",
        "def meow(n):\n",
        "  print(\"meow\\n\" * n, end=\"\")\n",
        "\n",
        "main()"
      ],
      "metadata": {
        "colab": {
          "base_uri": "https://localhost:8080/"
        },
        "id": "a-BoHzoRUpqf",
        "outputId": "3a2bdec4-74f1-42a5-feda-e6244ebd471b"
      },
      "execution_count": 21,
      "outputs": [
        {
          "output_type": "stream",
          "name": "stdout",
          "text": [
            "meow\n",
            "meow\n",
            "meow\n"
          ]
        }
      ]
    },
    {
      "cell_type": "code",
      "source": [
        "def main():\n",
        "  number = get_number(3)\n",
        "  meow(number)\n",
        "\n",
        "def get_number(n):\n",
        "  while True:\n",
        "    n = int(input(\"what's n? \"))\n",
        "    if n > 0:\n",
        "      break\n",
        "  return n\n",
        "\n",
        "def meow(n):\n",
        "  for _ in range(n):\n",
        "    print(\"meow\")\n",
        "\n",
        "main()"
      ],
      "metadata": {
        "colab": {
          "base_uri": "https://localhost:8080/"
        },
        "id": "DuZsvN9jV0oL",
        "outputId": "c89d1ccf-bf36-4a40-9436-138a18e35aa0"
      },
      "execution_count": 25,
      "outputs": [
        {
          "output_type": "stream",
          "name": "stdout",
          "text": [
            "what's n? 5\n",
            "meow\n",
            "meow\n",
            "meow\n",
            "meow\n",
            "meow\n"
          ]
        }
      ]
    },
    {
      "cell_type": "code",
      "source": [
        "# lists\n",
        "students = [\"Harry\", \"Hermione\", \"Ron\"]\n",
        "print(students[1], end=\" \")\n",
        "print(students[0], end=\" \")\n",
        "print(students[2] )"
      ],
      "metadata": {
        "colab": {
          "base_uri": "https://localhost:8080/"
        },
        "id": "YCTcicA1iTYq",
        "outputId": "24807954-1eb1-40e6-a4e1-b7c6eb0e4768"
      },
      "execution_count": 31,
      "outputs": [
        {
          "output_type": "stream",
          "name": "stdout",
          "text": [
            "Hermione Harry Ron\n"
          ]
        }
      ]
    },
    {
      "cell_type": "code",
      "source": [
        "students = [\"Harry\", \"Hermione\", \"Ron\"]\n",
        "for s in students:\n",
        "  print(s)"
      ],
      "metadata": {
        "colab": {
          "base_uri": "https://localhost:8080/"
        },
        "id": "toTRn00MjBOC",
        "outputId": "c90e7160-b084-47c2-eedb-394e39f3bb48"
      },
      "execution_count": 34,
      "outputs": [
        {
          "output_type": "stream",
          "name": "stdout",
          "text": [
            "Harry\n",
            "Hermione\n",
            "Ron\n"
          ]
        }
      ]
    },
    {
      "cell_type": "code",
      "source": [
        "# len tells you the length of the list\n",
        "students = [\"Harry\", \"Hermione\", \"Ron\"]\n",
        "for i in range(len(students)):\n",
        "  print(i + 1, students[i])\n"
      ],
      "metadata": {
        "colab": {
          "base_uri": "https://localhost:8080/"
        },
        "id": "_76EjykOlByP",
        "outputId": "657f51f8-1d7a-408e-e6dd-dce28230ad4a"
      },
      "execution_count": 37,
      "outputs": [
        {
          "output_type": "stream",
          "name": "stdout",
          "text": [
            "1 Harry\n",
            "2 Hermione\n",
            "3 Ron\n"
          ]
        }
      ]
    },
    {
      "cell_type": "code",
      "source": [
        "students = [\"Harry\", \"Hermione\", \"Ron\", \"Draco\"]\n",
        "houses = [\"Gryffindor\", \"Gryffindor\", \"Gryffindor\", \"Slytherin\"]\n",
        "\n",
        "for i in range(len(students)):\n",
        "  print(houses[i], students[i])"
      ],
      "metadata": {
        "colab": {
          "base_uri": "https://localhost:8080/"
        },
        "id": "tA0_cm_3nDh6",
        "outputId": "53e7631c-5ea3-4b29-ee9f-42fc7c0ca517"
      },
      "execution_count": 42,
      "outputs": [
        {
          "output_type": "stream",
          "name": "stdout",
          "text": [
            "Gryffindor Harry\n",
            "Gryffindor Hermione\n",
            "Gryffindor Ron\n",
            "Slytherin Draco\n"
          ]
        }
      ]
    },
    {
      "cell_type": "code",
      "source": [
        "students = {\n",
        "    \"Hermione\" : \"Gryffindor\",\n",
        "    \"Harry\" : \"Gryffindor\",\n",
        "    \"Ron\" : \"Gryffindor\",\n",
        "    \"Draco\" : \"Slytherin\",\n",
        "}\n",
        "print(students)\n",
        "print(students[\"Hermione\"])\n",
        "print(students[\"Harry\"])\n",
        "print(students[\"Ron\"])\n",
        "print(students[\"Draco\"])"
      ],
      "metadata": {
        "colab": {
          "base_uri": "https://localhost:8080/"
        },
        "id": "hzX-5wKlqODf",
        "outputId": "dcbbabda-34aa-4d6b-ce54-996d6ea7bd00"
      },
      "execution_count": 44,
      "outputs": [
        {
          "output_type": "stream",
          "name": "stdout",
          "text": [
            "{'Hermione': 'Gryffindor', 'Harry': 'Gryffindor', 'Ron': 'Gryffindor', 'Draco': 'Slytherin'}\n",
            "Gryffindor\n",
            "Gryffindor\n",
            "Gryffindor\n",
            "Slytherin\n"
          ]
        }
      ]
    },
    {
      "cell_type": "code",
      "source": [
        "students = {\n",
        "    \"Hermione\" : \"Gryffindor\",\n",
        "    \"Harry\" : \"Gryffindor\",\n",
        "    \"Ron\" : \"Gryffindor\",\n",
        "    \"Draco\" : \"Slytherin\",\n",
        "}\n",
        "\n",
        "for student in students:\n",
        "  print(student, students[student], sep=\", \")"
      ],
      "metadata": {
        "colab": {
          "base_uri": "https://localhost:8080/"
        },
        "id": "C6NEwMj1st-s",
        "outputId": "7a27c649-85fa-47b8-c4cb-f250b761dbb9"
      },
      "execution_count": 47,
      "outputs": [
        {
          "output_type": "stream",
          "name": "stdout",
          "text": [
            "Hermione, Gryffindor\n",
            "Harry, Gryffindor\n",
            "Ron, Gryffindor\n",
            "Draco, Slytherin\n"
          ]
        }
      ]
    },
    {
      "cell_type": "code",
      "source": [
        "students = [\n",
        "    {\"name\" : \"Hermione\", \"house\" : \"Gryffindor\", \"patronus\" : \"Otter\"},\n",
        "    {\"name\" : \"Harry\", \"house\" : \"Gryffindor\", \"patronus\" : \"Stag\"},\n",
        "    {\"name\" : \"Ron\", \"house\" : \"Gryffindor\", \"patronus\" : \"Jack Rusell terrir\"},\n",
        "    {\"name\" : \"Draco\", \"house\" : \"slytherin\", \"patronus\" : None}\n",
        "]\n",
        "# print(students)\n",
        "for student in students:\n",
        "  print(student[\"name\"], student[\"house\"], student[\"patronus\"], sep=\", \")"
      ],
      "metadata": {
        "colab": {
          "base_uri": "https://localhost:8080/"
        },
        "id": "SmzKOyE9u9YM",
        "outputId": "3ea14021-928d-4b1a-b391-a52489145a84"
      },
      "execution_count": 53,
      "outputs": [
        {
          "output_type": "stream",
          "name": "stdout",
          "text": [
            "Hermione, Gryffindor, Otter\n",
            "Harry, Gryffindor, Stag\n",
            "Ron, Gryffindor, Jack Rusell terrir\n",
            "Draco, slytherin, None\n"
          ]
        }
      ]
    },
    {
      "cell_type": "code",
      "source": [
        "def main():\n",
        "  print_row(4)\n",
        "\n",
        "def print_row(width):\n",
        "  print(\"?\" * width)\n",
        "\n",
        "main()"
      ],
      "metadata": {
        "colab": {
          "base_uri": "https://localhost:8080/"
        },
        "id": "AxkRRmzuxHs2",
        "outputId": "d5c7e567-d9b4-49c0-9c19-dd1233281d05"
      },
      "execution_count": 54,
      "outputs": [
        {
          "output_type": "stream",
          "name": "stdout",
          "text": [
            "????\n"
          ]
        }
      ]
    },
    {
      "cell_type": "code",
      "source": [
        "def main():\n",
        "  print_square(3)\n",
        "\n",
        "def print_square(size):\n",
        "  for i in range(size):\n",
        "    for j in range(size):\n",
        "      print(\"#\", end=\"\")\n",
        "    print()\n",
        "\n",
        "main()"
      ],
      "metadata": {
        "colab": {
          "base_uri": "https://localhost:8080/"
        },
        "id": "MopzcSrT4TLn",
        "outputId": "6c57b911-cf57-4da7-f4cf-d226e21fd414"
      },
      "execution_count": 57,
      "outputs": [
        {
          "output_type": "stream",
          "name": "stdout",
          "text": [
            "###\n",
            "###\n",
            "###\n"
          ]
        }
      ]
    }
  ]
}