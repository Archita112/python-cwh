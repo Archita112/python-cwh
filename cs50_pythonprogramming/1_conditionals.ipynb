{
  "nbformat": 4,
  "nbformat_minor": 0,
  "metadata": {
    "colab": {
      "provenance": []
    },
    "kernelspec": {
      "name": "python3",
      "display_name": "Python 3"
    },
    "language_info": {
      "name": "python"
    }
  },
  "cells": [
    {
      "cell_type": "code",
      "execution_count": 2,
      "metadata": {
        "colab": {
          "base_uri": "https://localhost:8080/"
        },
        "id": "0rpxB6ZFh3FF",
        "outputId": "ee5313f3-e376-483f-9b79-fbd49487e79e"
      },
      "outputs": [
        {
          "output_type": "stream",
          "name": "stdout",
          "text": [
            "What's x? 12\n",
            "What's y? 14\n",
            "x is less than y\n"
          ]
        }
      ],
      "source": [
        "# conditionals\n",
        "# 1. < - smaller than\n",
        "# 2. > - greater than\n",
        "# 3. <= - smaller than equal to\n",
        "# 4. >= - greater than equal to\n",
        "# 5. == - is equal to\n",
        "# 6. != - not equal to\n",
        "\n",
        "x = int(input(\"What's x? \"))\n",
        "y = int(input(\"What's y? \"))\n",
        "\n",
        "if x < y:\n",
        "  print(\"x is less than y\")\n",
        "if x > y:\n",
        "  print(\"x is greater than y\")\n",
        "if x == y:\n",
        "  print(\"x is equal to y\")"
      ]
    },
    {
      "cell_type": "code",
      "source": [
        "x = int(input(\"What's x? \"))\n",
        "y = int(input(\"What's y? \"))\n",
        "\n",
        "if x < y:\n",
        "  print(\"x is less than y\")\n",
        "elif x > y:\n",
        "  print(\"x is greater than y\")\n",
        "elif x == y:\n",
        "  print(\"x is equal to y\")"
      ],
      "metadata": {
        "colab": {
          "base_uri": "https://localhost:8080/"
        },
        "id": "CoWiPOidj8l9",
        "outputId": "12f88169-05ec-49c9-80db-e8cb559e8d7d"
      },
      "execution_count": 3,
      "outputs": [
        {
          "output_type": "stream",
          "name": "stdout",
          "text": [
            "What's x? 4\n",
            "What's y? 2\n",
            "x is greater than y\n"
          ]
        }
      ]
    },
    {
      "cell_type": "code",
      "source": [
        "x = int(input(\"What's x? \"))\n",
        "y = int(input(\"What's y? \"))\n",
        "\n",
        "if x < y:\n",
        "  print(\"x is less than y\")\n",
        "elif x > y:\n",
        "  print(\"x is greater than y\")\n",
        "else:\n",
        "  print(\"x is equal to y\")"
      ],
      "metadata": {
        "colab": {
          "base_uri": "https://localhost:8080/"
        },
        "id": "xIhr-HE1r5KX",
        "outputId": "10c14b35-5ff4-440b-e9cb-84d542587a47"
      },
      "execution_count": 4,
      "outputs": [
        {
          "output_type": "stream",
          "name": "stdout",
          "text": [
            "What's x? 2\n",
            "What's y? 2\n",
            "x is equal to y\n"
          ]
        }
      ]
    },
    {
      "cell_type": "code",
      "source": [
        "x = int(input(\"What's x? \"))\n",
        "y = int(input(\"What's y? \"))\n",
        "\n",
        "if x < y or x > y:\n",
        "  print(\"x is not equal to y\")\n",
        "else:\n",
        "  print(\"x is equal to y\")"
      ],
      "metadata": {
        "colab": {
          "base_uri": "https://localhost:8080/"
        },
        "id": "0q2tCFMzs5jY",
        "outputId": "619824a0-4ab7-4f37-e2b8-9448c5a0fc26"
      },
      "execution_count": 5,
      "outputs": [
        {
          "output_type": "stream",
          "name": "stdout",
          "text": [
            "What's x? 2\n",
            "What's y? 3\n",
            "x is not equal to y\n"
          ]
        }
      ]
    },
    {
      "cell_type": "code",
      "source": [
        "x = int(input(\"What's x? \"))\n",
        "y = int(input(\"What's y? \"))\n",
        "\n",
        "if x != y:\n",
        "  print(\"x is not equal to y\")\n",
        "else:\n",
        "  print(\"x is equal to y\")"
      ],
      "metadata": {
        "colab": {
          "base_uri": "https://localhost:8080/"
        },
        "id": "HEPBlsrttpS3",
        "outputId": "a07300b8-9b9e-410c-badc-fdb02336da7b"
      },
      "execution_count": 6,
      "outputs": [
        {
          "output_type": "stream",
          "name": "stdout",
          "text": [
            "What's x? 2\n",
            "What's y? 5\n",
            "x is not equal to y\n"
          ]
        }
      ]
    },
    {
      "cell_type": "code",
      "source": [
        "score = int(input(\"Score: \"))\n",
        "\n",
        "if score>=90 and score<=100:\n",
        "  print(\"Grade: A\")\n",
        "elif score>=80 and score<90:\n",
        "  print(\"Grade: B\")\n",
        "elif score>=70 and score<80:\n",
        "  print(\"Grade: C\")\n",
        "elif score>=60 and score<70:\n",
        "  print(\"Grade: D\")\n",
        "else:\n",
        "  print(\"Grade: F\")"
      ],
      "metadata": {
        "colab": {
          "base_uri": "https://localhost:8080/"
        },
        "id": "exDe5lM3uKZt",
        "outputId": "3d99fcaf-12ca-4ad3-f50b-d1b9f609ebf6"
      },
      "execution_count": 8,
      "outputs": [
        {
          "output_type": "stream",
          "name": "stdout",
          "text": [
            "Score: 50\n",
            "Grade: F\n"
          ]
        }
      ]
    },
    {
      "cell_type": "code",
      "source": [
        "score = int(input(\"Score: \"))\n",
        "\n",
        "if 90 <= score <= 100:\n",
        "  print(\"Grade: A\")\n",
        "elif 80 <= score < 90:\n",
        "  print(\"Grade: B\")\n",
        "elif 70 <= score < 80:\n",
        "  print(\"Grade: C\")\n",
        "elif 60 <= score < 70:\n",
        "  print(\"Grade: D\")\n",
        "else:\n",
        "  print(\"Grade: F\")"
      ],
      "metadata": {
        "colab": {
          "base_uri": "https://localhost:8080/"
        },
        "id": "sY0LNW90vSfj",
        "outputId": "854e317d-4b6f-480f-c869-f2ec270406b9"
      },
      "execution_count": 9,
      "outputs": [
        {
          "output_type": "stream",
          "name": "stdout",
          "text": [
            "Score: 70\n",
            "Grade: C\n"
          ]
        }
      ]
    },
    {
      "cell_type": "code",
      "source": [
        "# operator\n",
        "# + - addition\n",
        "# - - substraction\n",
        "# / - division\n",
        "# * - multiplication\n",
        "# % - for getting remainder (modulu operator)\n",
        "x = int(input(\"What's x? \"))\n",
        "\n",
        "if x % 2 == 0:\n",
        "  print(\"Even\")\n",
        "else:\n",
        "  print(\"Odd\")"
      ],
      "metadata": {
        "colab": {
          "base_uri": "https://localhost:8080/"
        },
        "id": "3YOsRMUhwIzp",
        "outputId": "ad4713d4-73e8-47bd-b3ee-a7a5e9846131"
      },
      "execution_count": 10,
      "outputs": [
        {
          "output_type": "stream",
          "name": "stdout",
          "text": [
            "What's x? 4\n",
            "Even\n"
          ]
        }
      ]
    },
    {
      "cell_type": "code",
      "source": [
        "def main():\n",
        "  x = int(input(\"What's x? \"))\n",
        "  is_even(x)\n",
        "\n",
        "def is_even(x):\n",
        "  if x % 2 == 0:\n",
        "    print(\"Even\")\n",
        "  else:\n",
        "    print(\"Odd\")\n",
        "  return x\n",
        "\n",
        "main()"
      ],
      "metadata": {
        "colab": {
          "base_uri": "https://localhost:8080/"
        },
        "id": "p-cIGp_-xu3C",
        "outputId": "9c14bbce-c696-4ed8-91df-d83d5c6842f7"
      },
      "execution_count": 12,
      "outputs": [
        {
          "output_type": "stream",
          "name": "stdout",
          "text": [
            "What's x? 5\n",
            "Odd\n"
          ]
        }
      ]
    },
    {
      "cell_type": "code",
      "source": [
        "from pickle import TRUE\n",
        "# using bools\n",
        "def main():\n",
        "  x = int(input(\"What's x? \"))\n",
        "  if is_even(x):\n",
        "    print(\"Even\")\n",
        "  else:\n",
        "    print(\"Odd\")\n",
        "\n",
        "def is_even(x):\n",
        "  if x % 2 == 0:\n",
        "    return True\n",
        "  else:\n",
        "    return False\n",
        "  return x\n",
        "\n",
        "main()"
      ],
      "metadata": {
        "colab": {
          "base_uri": "https://localhost:8080/"
        },
        "id": "I8ZSVphMyUIU",
        "outputId": "b8fe3111-af58-4e6e-d851-7c5a0e33c981"
      },
      "execution_count": 13,
      "outputs": [
        {
          "output_type": "stream",
          "name": "stdout",
          "text": [
            "What's x? 5\n",
            "Odd\n"
          ]
        }
      ]
    },
    {
      "cell_type": "code",
      "source": [
        "name = input(\"What's your name? \")\n",
        "\n",
        "if name == 'Harry' or name == 'Hermione' or name == 'Ron':\n",
        "  print(\"Gryffindor\")\n",
        "elif name == 'Draco':\n",
        "  print(\"Slytherin\")\n",
        "else:\n",
        "  print(\"Who?\")"
      ],
      "metadata": {
        "colab": {
          "base_uri": "https://localhost:8080/"
        },
        "id": "WBGwoqB4zFrI",
        "outputId": "667c320c-8ccd-446d-dd55-254a07c4beb8"
      },
      "execution_count": 14,
      "outputs": [
        {
          "output_type": "stream",
          "name": "stdout",
          "text": [
            "What's your name? Harry\n",
            "Gryffindor\n"
          ]
        }
      ]
    },
    {
      "cell_type": "code",
      "source": [
        "# match statement is like a switch case statements\n",
        "# and we have the default case represented as _\n",
        "\n",
        "name = input(\"What's your name? \")\n",
        "\n",
        "match name:\n",
        "  case \"Harry\":\n",
        "    print(\"Gryffindor\")\n",
        "  case \"Hermione\":\n",
        "    print(\"Gryffindor\")\n",
        "  case \"Ron\":\n",
        "    print(\"Gryffindor\")\n",
        "  case \"Draco\":\n",
        "    print(\"Slytherin\")\n",
        "  case _:\n",
        "    print(\"Who?\")"
      ],
      "metadata": {
        "colab": {
          "base_uri": "https://localhost:8080/"
        },
        "id": "-mtPM7njGZhN",
        "outputId": "8459f1d5-f7e8-40ce-ca50-a580d4af4838"
      },
      "execution_count": 16,
      "outputs": [
        {
          "output_type": "stream",
          "name": "stdout",
          "text": [
            "What's your name? padma\n",
            "Who?\n"
          ]
        }
      ]
    },
    {
      "cell_type": "code",
      "source": [
        "name = input(\"What's your name? \")\n",
        "\n",
        "match name:\n",
        "  case \"Harry\" | \"Hermione\" | \"Ron\":\n",
        "    print(\"Gryffindor\")\n",
        "  case \"Draco\":\n",
        "    print(\"Slytherin\")\n",
        "  case _:\n",
        "    print(\"Who?\")"
      ],
      "metadata": {
        "colab": {
          "base_uri": "https://localhost:8080/"
        },
        "id": "v9eaKM-8I2Sg",
        "outputId": "f28bc878-1067-4ac1-beef-723b900f6bcd"
      },
      "execution_count": 17,
      "outputs": [
        {
          "output_type": "stream",
          "name": "stdout",
          "text": [
            "What's your name? Harry\n",
            "Gryffindor\n"
          ]
        }
      ]
    }
  ]
}