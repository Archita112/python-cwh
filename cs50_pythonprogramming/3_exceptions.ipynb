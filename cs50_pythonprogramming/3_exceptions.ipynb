{
  "nbformat": 4,
  "nbformat_minor": 0,
  "metadata": {
    "colab": {
      "provenance": []
    },
    "kernelspec": {
      "name": "python3",
      "display_name": "Python 3"
    },
    "language_info": {
      "name": "python"
    }
  },
  "cells": [
    {
      "cell_type": "code",
      "execution_count": 1,
      "metadata": {
        "colab": {
          "base_uri": "https://localhost:8080/"
        },
        "id": "z9tpAAEC6hlY",
        "outputId": "e7fb93e0-259e-4289-e0ad-95d28bf691e4"
      },
      "outputs": [
        {
          "output_type": "stream",
          "name": "stdout",
          "text": [
            "Whats's x? hello\n",
            "x is not a integer\n"
          ]
        }
      ],
      "source": [
        "try:\n",
        "  x = int(input(\"Whats's x? \"))\n",
        "  print(f\"x is {x}\")\n",
        "except:\n",
        "  print(\"x is not a integer\")"
      ]
    },
    {
      "cell_type": "code",
      "source": [
        "try:\n",
        "  x = int(input(\"Whats's x? \"))\n",
        "except:\n",
        "  print(\"x is not a integer\")\n",
        "else:\n",
        "  print(f\"x is {x}\")"
      ],
      "metadata": {
        "colab": {
          "base_uri": "https://localhost:8080/"
        },
        "id": "xb8ejhHJ98yU",
        "outputId": "fe23f1f0-b61f-46cc-c88e-5292f88fd7dd"
      },
      "execution_count": 2,
      "outputs": [
        {
          "output_type": "stream",
          "name": "stdout",
          "text": [
            "Whats's x? 5\n",
            "x is 5\n"
          ]
        }
      ]
    },
    {
      "cell_type": "code",
      "source": [
        "while True:\n",
        "  try:\n",
        "    x = int(input(\"Whats's x? \"))\n",
        "  except:\n",
        "    print(\"x is not a integer\")\n",
        "  else:\n",
        "    break\n",
        "\n",
        "print(f\"x is {x}\")"
      ],
      "metadata": {
        "colab": {
          "base_uri": "https://localhost:8080/"
        },
        "id": "zQ8RgbO-llQr",
        "outputId": "527850b8-12b3-4c25-bfcf-4470a269994f"
      },
      "execution_count": 4,
      "outputs": [
        {
          "output_type": "stream",
          "name": "stdout",
          "text": [
            "Whats's x? abc\n",
            "x is not a integer\n",
            "Whats's x? ab\n",
            "x is not a integer\n",
            "Whats's x? a\n",
            "x is not a integer\n",
            "Whats's x? 0\n",
            "x is 0\n"
          ]
        }
      ]
    },
    {
      "cell_type": "code",
      "source": [
        "# while making your own function make sure that you return something at the end of the function\n",
        "# and also call main()\n",
        "\n",
        "def main():\n",
        "  y = get_int()\n",
        "  print(f\"x is {y}\")\n",
        "\n",
        "def get_int():\n",
        "  while True:\n",
        "    try:\n",
        "      x = int(input(\"Whats's x? \"))\n",
        "    except:\n",
        "      print(\"x is not a integer\")\n",
        "    else:\n",
        "      break\n",
        "  return x\n",
        "\n",
        "main()"
      ],
      "metadata": {
        "colab": {
          "base_uri": "https://localhost:8080/"
        },
        "id": "h9aZALx9sAqs",
        "outputId": "45b0644b-c5ef-4021-9940-ae864ab46227"
      },
      "execution_count": 7,
      "outputs": [
        {
          "output_type": "stream",
          "name": "stdout",
          "text": [
            "Whats's x? abc\n",
            "x is not a integer\n",
            "Whats's x? ab\n",
            "x is not a integer\n",
            "Whats's x? a\n",
            "x is not a integer\n",
            "Whats's x? 1\n",
            "x is 1\n"
          ]
        }
      ]
    },
    {
      "cell_type": "code",
      "source": [
        "def main():\n",
        "  y = get_int()\n",
        "  print(f\"x is {y}\")\n",
        "\n",
        "def get_int():\n",
        "  while True:\n",
        "    try:\n",
        "      x = int(input(\"Whats's x? \"))\n",
        "    except:\n",
        "      print(\"x is not a integer\")\n",
        "    else:\n",
        "      return x\n",
        "\n",
        "main()"
      ],
      "metadata": {
        "colab": {
          "base_uri": "https://localhost:8080/"
        },
        "id": "NUwR5-6FtbIk",
        "outputId": "23bfe957-03d8-439c-d734-c34664ec5fb3"
      },
      "execution_count": 8,
      "outputs": [
        {
          "output_type": "stream",
          "name": "stdout",
          "text": [
            "Whats's x? abc\n",
            "x is not a integer\n",
            "Whats's x? ab\n",
            "x is not a integer\n",
            "Whats's x? a\n",
            "x is not a integer\n",
            "Whats's x? 2\n",
            "x is 2\n"
          ]
        }
      ]
    },
    {
      "cell_type": "code",
      "source": [
        "def main():\n",
        "  y = get_int()\n",
        "  print(f\"x is {y}\")\n",
        "\n",
        "def get_int():\n",
        "  while True:\n",
        "    try:\n",
        "      return int(input(\"Whats's x? \"))\n",
        "    except:\n",
        "      print(\"x is not a integer\")\n",
        "\n",
        "main()"
      ],
      "metadata": {
        "colab": {
          "base_uri": "https://localhost:8080/"
        },
        "id": "gQDMeRjYuN_m",
        "outputId": "0128bfc7-94d8-43fa-9b92-ab8719546eee"
      },
      "execution_count": 9,
      "outputs": [
        {
          "output_type": "stream",
          "name": "stdout",
          "text": [
            "Whats's x? 12\n",
            "x is 12\n"
          ]
        }
      ]
    },
    {
      "cell_type": "code",
      "source": [
        "# from ast import Return\n",
        "def main():\n",
        "  y = get_int()\n",
        "  print(f\"x is {y}\")\n",
        "\n",
        "def get_int():\n",
        "  while True:\n",
        "    try:\n",
        "      return int(input(\"Whats's x? \"))\n",
        "    except ValueError:\n",
        "      pass\n",
        "\n",
        "# we can simply use the pass keyword to pass the error\n",
        "main()"
      ],
      "metadata": {
        "colab": {
          "base_uri": "https://localhost:8080/"
        },
        "id": "Y22UQd7VumJ8",
        "outputId": "cf610d76-5913-4f8f-ec81-f8dde310ee81"
      },
      "execution_count": 10,
      "outputs": [
        {
          "output_type": "stream",
          "name": "stdout",
          "text": [
            "Whats's x? cat\n",
            "Whats's x? 2\n",
            "x is 2\n"
          ]
        }
      ]
    },
    {
      "cell_type": "code",
      "source": [
        "# if we want to pass an argument or any statement here is for eg. what's x then we can use the prompt keyword\n",
        "def main():\n",
        "  y = get_int(\"What's x? \")\n",
        "  print(f\"x is {y}\")\n",
        "\n",
        "def get_int(prompt):\n",
        "  while True:\n",
        "    try:\n",
        "      return int(input(prompt))\n",
        "    except ValueError:\n",
        "      pass\n",
        "\n",
        "main()"
      ],
      "metadata": {
        "colab": {
          "base_uri": "https://localhost:8080/"
        },
        "id": "c70E_nhBvOT1",
        "outputId": "a4480e5c-808c-4725-a22b-35f3a52760a1"
      },
      "execution_count": 11,
      "outputs": [
        {
          "output_type": "stream",
          "name": "stdout",
          "text": [
            "What's x? a\n",
            "What's x? 3\n",
            "x is 3\n"
          ]
        }
      ]
    }
  ]
}