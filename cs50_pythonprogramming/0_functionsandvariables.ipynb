{
  "nbformat": 4,
  "nbformat_minor": 0,
  "metadata": {
    "colab": {
      "provenance": []
    },
    "kernelspec": {
      "name": "python3",
      "display_name": "Python 3"
    },
    "language_info": {
      "name": "python"
    }
  },
  "cells": [
    {
      "cell_type": "code",
      "execution_count": 1,
      "metadata": {
        "colab": {
          "base_uri": "https://localhost:8080/"
        },
        "id": "5cljFxSzqk-D",
        "outputId": "47a12fd6-f3cb-4267-9610-4e9b3a73fbca"
      },
      "outputs": [
        {
          "output_type": "stream",
          "name": "stdout",
          "text": [
            "Hello, world\n"
          ]
        }
      ],
      "source": [
        "print(\"Hello, world\")"
      ]
    },
    {
      "cell_type": "code",
      "source": [
        "# print(\"What's your name?\")\n",
        "name = input(\"What's your name? \")\n",
        "print(\"Her name is \" + name)"
      ],
      "metadata": {
        "colab": {
          "base_uri": "https://localhost:8080/"
        },
        "id": "OCJEDp_Tnsuy",
        "outputId": "7008ea12-58fa-48f7-a3f9-3bbfe87eca60"
      },
      "execution_count": 3,
      "outputs": [
        {
          "output_type": "stream",
          "name": "stdout",
          "text": [
            "What's your name? archita\n",
            "Her name is archita\n"
          ]
        }
      ]
    },
    {
      "cell_type": "code",
      "source": [
        "# single = to means is an assignment operator\n",
        "# variables are the container of different values, videos, images, or any other file\n",
        "# comments are notes to yourself, computer ignores your comment and comments are for us\n",
        "name = input(\"what is your name? \")\n",
        "\n",
        "print(\"Hello, \", end = \"\")\n",
        "print(name)"
      ],
      "metadata": {
        "colab": {
          "base_uri": "https://localhost:8080/"
        },
        "id": "a2LrYN3mtOD2",
        "outputId": "6a0152a7-2e11-42c8-ded3-c5a92a4d1410"
      },
      "execution_count": 6,
      "outputs": [
        {
          "output_type": "stream",
          "name": "stdout",
          "text": [
            "what is your name? archita\n",
            "Hello, archita\n"
          ]
        }
      ]
    },
    {
      "cell_type": "code",
      "source": [
        "print(\"Hello, 'friend'\")"
      ],
      "metadata": {
        "colab": {
          "base_uri": "https://localhost:8080/"
        },
        "id": "sUpOIgKqzCJG",
        "outputId": "24259bd7-3864-45e8-c8ae-c16cef1b94b4"
      },
      "execution_count": 8,
      "outputs": [
        {
          "output_type": "stream",
          "name": "stdout",
          "text": [
            "Hello, 'friend'\n"
          ]
        }
      ]
    },
    {
      "cell_type": "code",
      "source": [
        "print(\"Hello, \\\"friend\\\"\")"
      ],
      "metadata": {
        "colab": {
          "base_uri": "https://localhost:8080/"
        },
        "id": "LDJG-Dhf0Ec_",
        "outputId": "f6b5db0c-8093-4b9b-b5c9-595591bc8485"
      },
      "execution_count": 9,
      "outputs": [
        {
          "output_type": "stream",
          "name": "stdout",
          "text": [
            "Hello, \"friend\"\n"
          ]
        }
      ]
    },
    {
      "cell_type": "code",
      "source": [
        "print(\"Hello, {name}\")"
      ],
      "metadata": {
        "colab": {
          "base_uri": "https://localhost:8080/"
        },
        "id": "zlNCsmAu0TMt",
        "outputId": "64595f80-1119-46e1-ad4a-36687ba29e61"
      },
      "execution_count": 10,
      "outputs": [
        {
          "output_type": "stream",
          "name": "stdout",
          "text": [
            "Hello, {name}\n"
          ]
        }
      ]
    },
    {
      "cell_type": "code",
      "source": [
        "name = input(\"what is your name? \")\n",
        "print(f\"hello, {name}\")"
      ],
      "metadata": {
        "colab": {
          "base_uri": "https://localhost:8080/"
        },
        "id": "Z_q7cw0_0hed",
        "outputId": "84ac0bd1-a018-425b-ad7c-29490992fcef"
      },
      "execution_count": 13,
      "outputs": [
        {
          "output_type": "stream",
          "name": "stdout",
          "text": [
            "what is your name? archita\n",
            "hello, archita\n"
          ]
        }
      ]
    },
    {
      "cell_type": "code",
      "source": [
        "name = input(\"what is your name? \")\n",
        "\n",
        "# removing all the blank spaces\n",
        "name = name.strip()\n",
        "\n",
        "print(f\"hello, {name}\")"
      ],
      "metadata": {
        "colab": {
          "base_uri": "https://localhost:8080/"
        },
        "id": "pP4sfRsi0mJf",
        "outputId": "ca124f92-3a5a-4d9e-8547-df6d8872ffbc"
      },
      "execution_count": 14,
      "outputs": [
        {
          "output_type": "stream",
          "name": "stdout",
          "text": [
            "what is your name?   architaa  \n",
            "hello, architaa\n"
          ]
        }
      ]
    },
    {
      "cell_type": "code",
      "source": [
        "name = input(\"what is your name? \")\n",
        "\n",
        "# removing all the blank spaces\n",
        "name = name.strip()\n",
        "\n",
        "# captitalizing user's name\n",
        "name = name.capitalize()\n",
        "\n",
        "print(f\"hello, {name}\")"
      ],
      "metadata": {
        "colab": {
          "base_uri": "https://localhost:8080/"
        },
        "id": "2U828PqA1Tch",
        "outputId": "2da888e8-ad38-4862-ce83-415d3a41da90"
      },
      "execution_count": 16,
      "outputs": [
        {
          "output_type": "stream",
          "name": "stdout",
          "text": [
            "what is your name? archita\n",
            "hello, Archita\n"
          ]
        }
      ]
    },
    {
      "cell_type": "code",
      "source": [
        "name = input(\"what is your name? \")\n",
        "\n",
        "# removing all the blank spaces and capitalizing\n",
        "name = name.strip().title()\n",
        "\n",
        "print(f\"hello, {name}\")"
      ],
      "metadata": {
        "colab": {
          "base_uri": "https://localhost:8080/"
        },
        "id": "ofFkD4HV1xBY",
        "outputId": "5b39c8c5-b3c5-4342-cea5-24e0f3be8a7e"
      },
      "execution_count": 17,
      "outputs": [
        {
          "output_type": "stream",
          "name": "stdout",
          "text": [
            "what is your name? archita\n",
            "hello, Archita\n"
          ]
        }
      ]
    },
    {
      "cell_type": "code",
      "source": [
        "name = input(\"what is your name? \").strip().title()\n",
        "\n",
        "print(f\"hello, {name}\")"
      ],
      "metadata": {
        "colab": {
          "base_uri": "https://localhost:8080/"
        },
        "id": "0C4GQTqk2O8V",
        "outputId": "26346609-fc93-43f0-ed23-49c2020e81a0"
      },
      "execution_count": 18,
      "outputs": [
        {
          "output_type": "stream",
          "name": "stdout",
          "text": [
            "what is your name?     architaa   \n",
            "hello, Architaa\n"
          ]
        }
      ]
    },
    {
      "cell_type": "code",
      "source": [
        "x = input(\"Enter the first number: \")\n",
        "y = input(\"Enter the second number: \")\n",
        "\n",
        "z = int(x) + int(y)\n",
        "print(z)"
      ],
      "metadata": {
        "colab": {
          "base_uri": "https://localhost:8080/"
        },
        "id": "35iTLG9Y2a46",
        "outputId": "184327dd-8868-48d2-8650-9cbd5622766a"
      },
      "execution_count": 21,
      "outputs": [
        {
          "output_type": "stream",
          "name": "stdout",
          "text": [
            "Enter the first number: 4\n",
            "Enter the second number: 7\n",
            "11\n"
          ]
        }
      ]
    },
    {
      "cell_type": "code",
      "source": [
        "x = int(input(\"Enter the first number: \"))\n",
        "y = int(input(\"Enter the second number: \"))\n",
        "\n",
        "z = x + y\n",
        "print(z)"
      ],
      "metadata": {
        "colab": {
          "base_uri": "https://localhost:8080/"
        },
        "id": "vWL1o0E65xx8",
        "outputId": "b42a221b-1fc2-4da0-df94-a658cc464b99"
      },
      "execution_count": 22,
      "outputs": [
        {
          "output_type": "stream",
          "name": "stdout",
          "text": [
            "Enter the first number: 6\n",
            "Enter the second number: 7\n",
            "13\n"
          ]
        }
      ]
    },
    {
      "cell_type": "code",
      "source": [
        "x = int(input(\"Enter the first number: \"))\n",
        "y = int(input(\"Enter the second number: \"))\n",
        "\n",
        "print(x + y)\n",
        "print(x - y)\n",
        "print(x * y)\n",
        "print(x / y)\n",
        "print(x % y)"
      ],
      "metadata": {
        "colab": {
          "base_uri": "https://localhost:8080/"
        },
        "id": "wO27BQ0q6lOw",
        "outputId": "75c7c914-bd5f-4df0-ea5e-e6bcdf9adc93"
      },
      "execution_count": 23,
      "outputs": [
        {
          "output_type": "stream",
          "name": "stdout",
          "text": [
            "Enter the first number: 6\n",
            "Enter the second number: 6\n",
            "12\n",
            "0\n",
            "36\n",
            "1.0\n",
            "0\n"
          ]
        }
      ]
    },
    {
      "cell_type": "code",
      "source": [
        "x = float(input(\"Enter the first number: \"))\n",
        "y = float(input(\"Enter the second number: \"))\n",
        "\n",
        "z = round(x + y)\n",
        "print(f\"{z}\")"
      ],
      "metadata": {
        "colab": {
          "base_uri": "https://localhost:8080/"
        },
        "id": "_pVhUQa_63Um",
        "outputId": "fa7b4aa5-8dd7-4013-9c69-0554ea3306ce"
      },
      "execution_count": 3,
      "outputs": [
        {
          "output_type": "stream",
          "name": "stdout",
          "text": [
            "Enter the first number: 998\n",
            "Enter the second number: 1.2\n",
            "999\n"
          ]
        }
      ]
    },
    {
      "cell_type": "code",
      "source": [
        "x = float(input(\"Enter the first number: \"))\n",
        "y = float(input(\"Enter the second number: \"))\n",
        "\n",
        "z = round(x + y)\n",
        "print(f\"{z:,}\")"
      ],
      "metadata": {
        "colab": {
          "base_uri": "https://localhost:8080/"
        },
        "id": "2JBlwzYlPQmu",
        "outputId": "0ecfca6a-2741-41cb-8d78-addea5a3082b"
      },
      "execution_count": 4,
      "outputs": [
        {
          "output_type": "stream",
          "name": "stdout",
          "text": [
            "Enter the first number: 999\n",
            "Enter the second number: 1\n",
            "1,000\n"
          ]
        }
      ]
    },
    {
      "cell_type": "code",
      "source": [
        "# creating a function\n",
        "\n",
        "def hello(name: str):\n",
        "  # name.strip().title()\n",
        "  print(\"hello, \" + name)\n",
        "\n",
        "name = input(\"What is your name? \")\n",
        "hello(name)"
      ],
      "metadata": {
        "colab": {
          "base_uri": "https://localhost:8080/"
        },
        "id": "ie4Vo62-QJ9f",
        "outputId": "026fa065-8dcf-411f-c915-beae1e76be59"
      },
      "execution_count": 8,
      "outputs": [
        {
          "output_type": "stream",
          "name": "stdout",
          "text": [
            "What is your name? archita\n",
            "hello, archita\n"
          ]
        }
      ]
    },
    {
      "cell_type": "code",
      "source": [
        "def main():\n",
        "  x = int(input(\"Enter the number: \"))\n",
        "  # y = int(input(\"Enter the first number: \"))\n",
        "  print(\"the x squared value is: \", square(x))\n",
        "  return square(x)\n",
        "\n",
        "def square(x):\n",
        "  y = x*x\n",
        "  return y\n",
        "\n",
        "main()"
      ],
      "metadata": {
        "colab": {
          "base_uri": "https://localhost:8080/"
        },
        "id": "xhFy0kEnS33E",
        "outputId": "2ecd93e9-116f-49af-d3a3-83a1a39cd068"
      },
      "execution_count": 14,
      "outputs": [
        {
          "output_type": "stream",
          "name": "stdout",
          "text": [
            "Enter the number: 4\n",
            "the x squared value is:  16\n"
          ]
        },
        {
          "output_type": "execute_result",
          "data": {
            "text/plain": [
              "16"
            ]
          },
          "metadata": {},
          "execution_count": 14
        }
      ]
    }
  ]
}